{
 "cells": [
  {
   "cell_type": "markdown",
   "id": "ecaf8cc4",
   "metadata": {},
   "source": [
    "# Qualifying Test"
   ]
  },
  {
   "cell_type": "markdown",
   "id": "e9c99a93",
   "metadata": {},
   "source": [
    "## 기초 파이썬 코딩 문제\n",
    "### 문제에 관한 질의사항이 있으실 경우, f_impro@naver.com으로 문의해주세요."
   ]
  },
  {
   "cell_type": "markdown",
   "id": "427f72e4",
   "metadata": {},
   "source": [
    "### Problem 1\n",
    "#### 카드 13장을 가지고 있다. 카드를 임의로 섞은 뒤, 섞은 결과를 출력하고자 한다. 아래 답안란에 코드를 채워 프로그램을 완성하라."
   ]
  },
  {
   "cell_type": "code",
   "execution_count": 3,
   "id": "3d77d177",
   "metadata": {},
   "outputs": [
    {
     "name": "stdout",
     "output_type": "stream",
     "text": [
      "We have cards =  ['A', 'K', 'Q', 'J', '10', '9', '8', '7', '6', '5', '4', '3', '2']\n"
     ]
    }
   ],
   "source": [
    "import random\n",
    "random.seed(13931)\n",
    "cards = 'A K Q J 10 9 8 7 6 5 4 3 2'.split()\n",
    "print('We have cards = ', cards)"
   ]
  },
  {
   "cell_type": "markdown",
   "id": "3b92fa2f",
   "metadata": {},
   "source": [
    "### 답안"
   ]
  },
  {
   "cell_type": "code",
   "execution_count": 4,
   "id": "689666bf",
   "metadata": {},
   "outputs": [
    {
     "name": "stdout",
     "output_type": "stream",
     "text": [
      "['6', '4', '2', '9', 'J', '10', '7', '8', '3', 'Q', '5', 'K', 'A']\n"
     ]
    }
   ],
   "source": [
    "import random \n",
    "import math \n",
    "tmp = []\n",
    "for x in cards:\n",
    "    tmp = tmp + [[random.random(), x]]\n",
    "    \n",
    "tmp.sort()\n",
    "\n",
    "shuffleCard = []\n",
    "for y in tmp:\n",
    "    shuffleCard = shuffleCard + [y[1]]\n",
    "    \n",
    "print(shuffleCard)"
   ]
  },
  {
   "cell_type": "markdown",
   "id": "20e66f25",
   "metadata": {},
   "source": [
    "### Problem 2"
   ]
  },
  {
   "cell_type": "markdown",
   "id": "28ea5e46",
   "metadata": {},
   "source": [
    "#### 아래는 어떤 회사의 지난 1년간 주가 데이터를 불러온 것이다. "
   ]
  },
  {
   "cell_type": "code",
   "execution_count": 5,
   "id": "b9aec480",
   "metadata": {},
   "outputs": [
    {
     "name": "stdout",
     "output_type": "stream",
     "text": [
      "[*********************100%***********************]  1 of 1 completed\n",
      "                Open      High       Low     Close      Adj Close   Volume\n",
      "Date                                                                      \n",
      "2021-04-28  134500.0  135000.0  130000.0  130000.0  128108.734375  5596760\n",
      "2021-04-29  132000.0  133000.0  129000.0  130000.0  128108.734375  3738266\n",
      "2021-04-30  130000.0  130500.0  126500.0  128000.0  126137.828125  3955947\n",
      "2021-05-03  127500.0  132500.0  127000.0  131500.0  129586.914062  4085398\n",
      "2021-05-04  130500.0  132000.0  129000.0  132000.0  130079.632812  2547004\n",
      "...              ...       ...       ...       ...            ...      ...\n",
      "2022-04-25  109000.0  109500.0  108000.0  108000.0  108000.000000  2282343\n",
      "2022-04-26  109500.0  111000.0  108000.0  111000.0  111000.000000  2969516\n",
      "2022-04-27  108000.0  109500.0  107500.0  108500.0  108500.000000  3261290\n",
      "2022-04-28  109500.0  110000.0  108000.0  109500.0  109500.000000  2804966\n",
      "2022-04-29  110000.0  112500.0  109500.0  112500.0  112500.000000  3735310\n",
      "\n",
      "[248 rows x 6 columns]\n"
     ]
    }
   ],
   "source": [
    "# pip install pandas_datareader\n",
    "# pip install yfinance\n",
    "\n",
    "from pandas_datareader import data as pdr\n",
    "import yfinance as yf\n",
    "\n",
    "yf.pdr_override()\n",
    "price=pdr.get_data_yahoo('000660.KS', start='2021-04-28')\n",
    "print(price)"
   ]
  },
  {
   "cell_type": "code",
   "execution_count": 6,
   "id": "0f2cf6a5",
   "metadata": {},
   "outputs": [
    {
     "name": "stdout",
     "output_type": "stream",
     "text": [
      "Date\n",
      "2021-04-28    130000.0\n",
      "2021-04-29    130000.0\n",
      "2021-04-30    128000.0\n",
      "2021-05-03    131500.0\n",
      "2021-05-04    132000.0\n",
      "                ...   \n",
      "2022-04-25    108000.0\n",
      "2022-04-26    111000.0\n",
      "2022-04-27    108500.0\n",
      "2022-04-28    109500.0\n",
      "2022-04-29    112500.0\n",
      "Name: Close, Length: 248, dtype: float64\n",
      "DatetimeIndex(['2021-04-28', '2021-04-29', '2021-04-30', '2021-05-03',\n",
      "               '2021-05-04', '2021-05-06', '2021-05-07', '2021-05-10',\n",
      "               '2021-05-11', '2021-05-12',\n",
      "               ...\n",
      "               '2022-04-18', '2022-04-19', '2022-04-20', '2022-04-21',\n",
      "               '2022-04-22', '2022-04-25', '2022-04-26', '2022-04-27',\n",
      "               '2022-04-28', '2022-04-29'],\n",
      "              dtype='datetime64[ns]', name='Date', length=248, freq=None)\n"
     ]
    }
   ],
   "source": [
    "print(price.Close)\n",
    "print(price.index)"
   ]
  },
  {
   "cell_type": "markdown",
   "id": "475eee96",
   "metadata": {},
   "source": [
    "#### 위의 데이터 중, 종가(Close)만을 이용하여 아래의 각 절차에 맞는 프로그램을 완성하라."
   ]
  },
  {
   "cell_type": "markdown",
   "id": "f709a549",
   "metadata": {},
   "source": [
    "#### 1) Return 이라는 빈 array을 하나 만든다. \n",
    "#### 답안"
   ]
  },
  {
   "cell_type": "code",
   "execution_count": 7,
   "id": "a003cd3c",
   "metadata": {},
   "outputs": [
    {
     "name": "stdout",
     "output_type": "stream",
     "text": [
      "[]\n"
     ]
    }
   ],
   "source": [
    "import numpy as np\n",
    "Return = np.array([])\n",
    "print(Return)"
   ]
  },
  {
   "cell_type": "markdown",
   "id": "8e571524",
   "metadata": {},
   "source": [
    "#### 2) 일별 수익률$(log(close)_t - log(close)_{t-1})$을 구해 새로운 column을 만들어 저장한다. $t$는 특정 날짜를 의미하며, $t-1$은 특정 날짜의 전날을 의미한다.\n",
    "#### 답안"
   ]
  },
  {
   "cell_type": "code",
   "execution_count": 8,
   "id": "8dacb90d",
   "metadata": {},
   "outputs": [],
   "source": [
    "# Hint: close_t = np.array(price['Close'])[:-1]를 이용할 것.\n",
    "import numpy as np \n",
    "\n",
    "close_t1 = np.array(price['Close'])\n",
    "close_t = np.array(price['Close'])[:-1]\n",
    "b = np.insert(close_t, 0, 1)\n",
    "\n",
    "logb = np.log(b)\n",
    "logclose_t = np.log(close_t1)\n",
    "\n",
    "\n",
    "c = logclose_t - logb\n",
    "\n",
    "#(검산) print(c)\n",
    "\n",
    "\n",
    "\n"
   ]
  },
  {
   "cell_type": "markdown",
   "id": "b192e896",
   "metadata": {},
   "source": [
    "#### 3) 2)에서 만든 일별 수익률 자료를 표본으로 항, 하나를 추출하여 Return 변수에 입력한다. 이 과정을 250번 반복하여 순차적으로 Return 에 이어붙인다(append). (이를 향후 1년 뒤의 일별 예측 수익률이라 정의한다.)\n",
    "#### 답안"
   ]
  },
  {
   "cell_type": "code",
   "execution_count": 9,
   "id": "de6edea5",
   "metadata": {},
   "outputs": [],
   "source": [
    "import numpy as np \n",
    "daily_return = np.append(Return, c)\n",
    "\n",
    "#(검산)print(daily_return)\n"
   ]
  },
  {
   "cell_type": "markdown",
   "id": "90b3c46c",
   "metadata": {},
   "source": [
    "### Problem 3"
   ]
  },
  {
   "cell_type": "markdown",
   "id": "1e80e062",
   "metadata": {},
   "source": [
    "#### Problem 2에서 얻은 일별 예측 수익률을 line plot으로 그려라. 이 때, x축에는 'time', y축에는 'predicted return'이라는 축제목이 붙어야 한다."
   ]
  },
  {
   "cell_type": "code",
   "execution_count": 10,
   "id": "0ca3afc6",
   "metadata": {},
   "outputs": [
    {
     "data": {
      "image/png": "[encoded data removed]",
      "text/plain": [
       "<Figure size 432x288 with 1 Axes>"
      ]
     },
     "metadata": {
      "needs_background": "light"
     },
     "output_type": "display_data"
    }
   ],
   "source": [
    "import numpy as np \n",
    "from matplotlib import pyplot as plt\n",
    "\n",
    "#(첫째날-0번째날)로 계산된 array 첫 번째 값을 0으로 만들어준다. \n",
    "daily_return[0]= 0\n",
    "\n",
    "plt.plot(daily_return)\n",
    "plt.xlabel('time')\n",
    "plt.ylabel('predicted return')\n",
    "\n",
    "plt.show()"
   ]
  },
  {
   "cell_type": "code",
   "execution_count": null,
   "id": "5019a9b8",
   "metadata": {},
   "outputs": [],
   "source": []
  }
 ],
 "metadata": {
  "kernelspec": {
   "display_name": "Python 3 (ipykernel)",
   "language": "python",
   "name": "python3"
  },
  "language_info": {
   "codemirror_mode": {
    "name": "ipython",
    "version": 3
   },
   "file_extension": ".py",
   "mimetype": "text/x-python",
   "name": "python",
   "nbconvert_exporter": "python",
   "pygments_lexer": "ipython3",
   "version": "3.10.4"
  }
 },
 "nbformat": 4,
 "nbformat_minor": 5
}

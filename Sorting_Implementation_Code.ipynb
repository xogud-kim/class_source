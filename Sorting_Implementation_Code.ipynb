{
 "cells": [
  {
   "cell_type": "markdown",
   "metadata": {},
   "source": [
    "# Foundation of Data Science, Lecture 7, Practice session"
   ]
  },
  {
   "cell_type": "code",
   "execution_count": 1,
   "metadata": {},
   "outputs": [],
   "source": [
    "import random"
   ]
  },
  {
   "cell_type": "markdown",
   "metadata": {},
   "source": [
    "# (1) Selection Sort"
   ]
  },
  {
   "cell_type": "code",
   "execution_count": 2,
   "metadata": {},
   "outputs": [],
   "source": [
    "def Selection_Sort(L):\n",
    "    for i in range(len(L)):\n",
    "        min_idx = i\n",
    "        for j in range(i, len(L)):\n",
    "            if L[min_idx] > L[j]:\n",
    "                min_idx = j\n",
    "            L[min_idx], L[j] = L[j], L[min_idx]\n",
    "    return L    "
   ]
  },
  {
   "cell_type": "code",
   "execution_count": 3,
   "metadata": {},
   "outputs": [
    {
     "name": "stdout",
     "output_type": "stream",
     "text": [
      "[2, 9, 5, 10, 7, 4, 3, 6, 8, 1]\n"
     ]
    }
   ],
   "source": [
    "# Time complexity of Selection sort is O(n^2) for both worst and best case\n",
    "L = list(range(1, 11))\n",
    "random.shuffle(L)\n",
    "print(L)"
   ]
  },
  {
   "cell_type": "code",
   "execution_count": 4,
   "metadata": {},
   "outputs": [
    {
     "data": {
      "text/plain": [
       "[9, 10, 7, 8, 6, 5, 4, 3, 2, 1]"
      ]
     },
     "execution_count": 4,
     "metadata": {},
     "output_type": "execute_result"
    }
   ],
   "source": [
    "Selection_Sort(L)"
   ]
  },
  {
   "cell_type": "markdown",
   "metadata": {},
   "source": [
    "# (2) Insertion Sort"
   ]
  },
  {
   "cell_type": "code",
   "execution_count": 5,
   "metadata": {},
   "outputs": [],
   "source": [
    "def Insertion_Sort(L):\n",
    "\n",
    "    return L"
   ]
  },
  {
   "cell_type": "code",
   "execution_count": 6,
   "metadata": {},
   "outputs": [
    {
     "name": "stdout",
     "output_type": "stream",
     "text": [
      "[10, 9, 8, 7, 6, 5, 4, 3, 2, 1]\n"
     ]
    }
   ],
   "source": [
    "# Time complexity of Selection sort is O(n^2) for the worst case and O(n) for the best case\n",
    "# Worst case\n",
    "L = list(range(10, 0, -1))\n",
    "print(L)"
   ]
  },
  {
   "cell_type": "code",
   "execution_count": 7,
   "metadata": {},
   "outputs": [
    {
     "data": {
      "text/plain": [
       "[10, 9, 8, 7, 6, 5, 4, 3, 2, 1]"
      ]
     },
     "execution_count": 7,
     "metadata": {},
     "output_type": "execute_result"
    }
   ],
   "source": [
    "Insertion_Sort(L)"
   ]
  },
  {
   "cell_type": "code",
   "execution_count": 8,
   "metadata": {},
   "outputs": [
    {
     "name": "stdout",
     "output_type": "stream",
     "text": [
      "[1, 2, 3, 4, 5, 6, 7, 8, 9, 10]\n"
     ]
    }
   ],
   "source": [
    "# Best case\n",
    "L = list(range(1, 11))\n",
    "print(L)"
   ]
  },
  {
   "cell_type": "code",
   "execution_count": 9,
   "metadata": {},
   "outputs": [
    {
     "data": {
      "text/plain": [
       "[1, 2, 3, 4, 5, 6, 7, 8, 9, 10]"
      ]
     },
     "execution_count": 9,
     "metadata": {},
     "output_type": "execute_result"
    }
   ],
   "source": [
    "Insertion_Sort(L)"
   ]
  },
  {
   "cell_type": "markdown",
   "metadata": {},
   "source": [
    "# (3) Merge Sort"
   ]
  },
  {
   "cell_type": "code",
   "execution_count": 10,
   "metadata": {},
   "outputs": [],
   "source": [
    "def Merge_Sort(L):\n",
    "    \n",
    "    return "
   ]
  },
  {
   "cell_type": "code",
   "execution_count": 11,
   "metadata": {},
   "outputs": [
    {
     "name": "stdout",
     "output_type": "stream",
     "text": [
      "[10, 9, 8, 7, 6, 5, 4, 3, 2, 1]\n",
      "[8, 9, 10, 7, 4, 6, 1, 2, 5, 3]\n"
     ]
    }
   ],
   "source": [
    "# Time complexity of Merge sort is O(nlogn) for the worst case and O(n) for the best case\n",
    "# Worst case\n",
    "L = list(range(10, 0, -1))\n",
    "print(L)\n",
    "\n",
    "L = list(range(1, 11))\n",
    "random.shuffle(L)\n",
    "print(L)\n",
    "Merge_Sort(L)"
   ]
  },
  {
   "cell_type": "markdown",
   "metadata": {},
   "source": [
    "# (4) Test Case Generation"
   ]
  },
  {
   "cell_type": "code",
   "execution_count": 12,
   "metadata": {},
   "outputs": [],
   "source": [
    "L = []\n",
    "L.append(list(range(10000)))\n",
    "random.shuffle(L[0])\n",
    "L.append(list(range(20000)))\n",
    "random.shuffle(L[1])"
   ]
  },
  {
   "cell_type": "markdown",
   "metadata": {},
   "source": [
    "# (7) Evaluation and Printing"
   ]
  },
  {
   "cell_type": "code",
   "execution_count": null,
   "metadata": {},
   "outputs": [],
   "source": [
    "import time\n",
    "\n",
    "algorithms = [Selection_Sort, Insertion_Sort, Merge_Sort]\n",
    "names = [\"Selecion Sort\", \"Insertion Sort\", \"Merge Sort\"]\n",
    "\n",
    "for i in range(len(L)):\n",
    "    print(\"[ Performance when list size is\", len(L[i]), \"]\")\n",
    "    \n",
    "    for j in range(len(algorithms)):\n",
    "        # Copy the unserted list for testing\n",
    "        inputList = L[i][:]\n",
    "        \n",
    "        # Time measurement\n",
    "        t_start = time.perf_counter()\n",
    "        algorithms[j](inputList)\n",
    "        t_end = time.perf_counter()\n",
    "        \n",
    "        print(\"\\t-\", names[j], \"takes\", int((t_end-t_start)*1000.0), \"msec.\")\n",
    "    print(\"we\")"
   ]
  },
  {
   "cell_type": "code",
   "execution_count": null,
   "metadata": {},
   "outputs": [],
   "source": []
  }
 ],
 "metadata": {
  "kernelspec": {
   "display_name": "Python 3 (ipykernel)",
   "language": "python",
   "name": "python3"
  },
  "language_info": {
   "codemirror_mode": {
    "name": "ipython",
    "version": 3
   },
   "file_extension": ".py",
   "mimetype": "text/x-python",
   "name": "python",
   "nbconvert_exporter": "python",
   "pygments_lexer": "ipython3",
   "version": "3.11.5"
  }
 },
 "nbformat": 4,
 "nbformat_minor": 4
}

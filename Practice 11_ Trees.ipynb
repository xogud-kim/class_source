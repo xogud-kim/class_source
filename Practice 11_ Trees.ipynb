{
 "cells": [
  {
   "cell_type": "markdown",
   "id": "edbe27cd",
   "metadata": {},
   "source": [
    "# TreeNode definition"
   ]
  },
  {
   "cell_type": "code",
   "execution_count": 1,
   "id": "56eabdcb",
   "metadata": {},
   "outputs": [],
   "source": [
    "class TreeNode():\n",
    "    def __init__(self, s: str, k: int):\n",
    "        self.name = s\n",
    "        self.ary = k\n",
    "        self.child = [None]*k"
   ]
  },
  {
   "cell_type": "markdown",
   "id": "a4758983",
   "metadata": {},
   "source": [
    "# Tree construction"
   ]
  },
  {
   "cell_type": "code",
   "execution_count": 2,
   "id": "c387a810",
   "metadata": {},
   "outputs": [],
   "source": [
    "t_root = TreeNode(\"/\", 10)\n",
    "t_root.child[0] = TreeNode(\"conda\",10)\n",
    "t_root.child[1] = TreeNode(\"idlerc\",10)\n",
    "t_root.child[2] = TreeNode(\"ipynb_checkpoints\",10)\n",
    "t_root.child[3] = TreeNode(\"ipython\",10)\n",
    "t_root.child[4] = TreeNode(\"jupyter\",10)\n",
    "t_root.child[5] = TreeNode(\"VirtualBox\",10)\n",
    "t_root.child[6] = TreeNode(\"3D Objects\",10)\n",
    "t_root.child[7] = TreeNode(\"anaconda3\",10)\n",
    "\n",
    "t_ipython = t_root.child[3]\n",
    "t_ipython.child[0] = TreeNode(\"extensions\",10)\n",
    "t_ipython.child[1] = TreeNode(\"nbextensions\",10)\n",
    "t_ipython.child[2] = TreeNode(\"profile_default\",10)\n",
    "t_default = t_ipython.child[2]\n",
    "t_default.child[0] = TreeNode(\"db\",10)\n",
    "t_default.child[1] = TreeNode(\"log\",10)\n",
    "t_default.child[2] = TreeNode(\"pid\",10)\n",
    "t_default.child[3] = TreeNode(\"security\",10)\n",
    "t_default.child[4] = TreeNode(\"startup\",10)\n",
    "\n",
    "t_jupyter = t_root.child[4]\n",
    "t_jupyter.child[0] = TreeNode(\"lab\",10)\n",
    "t_jupyter.child[1] = TreeNode(\"nbconfig\",10)\n",
    "t_jupyter.child[0].child[0] = TreeNode(\"workspace\",10)\n",
    "\n",
    "t_ana = t_root.child[7]\n",
    "t_ana.child[0] = TreeNode(\"bin\",10)\n",
    "t_ana.child[1] = TreeNode(\"conda-meta\",10)\n",
    "t_ana.child[2] = TreeNode(\"condabin\",10)\n",
    "t_ana.child[3] = TreeNode(\"DLLs\",10)\n",
    "t_ana.child[4] = TreeNode(\"etc\",10)\n",
    "t_etc = t_ana.child[4]\n",
    "t_etc.child[0] = TreeNode(\"fish\",10)\n",
    "t_etc.child[0].child[0] = TreeNode(\"conf.d\",10)\n",
    "t_etc.child[1] = TreeNode(\"jupyter\",10)\n",
    "t_etc.child[1].child[0] = TreeNode(\"jupyter_notebook_config.d\",10)\n",
    "t_etc.child[1].child[1] = TreeNode(\"nbconfig\",10)\n",
    "t_etc.child[1].child[1].child[0] = TreeNode(\"notebook.d\",10)\n",
    "t_etc.child[2] = TreeNode(\"profile.d\",10)"
   ]
  },
  {
   "cell_type": "markdown",
   "id": "d57f1a66",
   "metadata": {},
   "source": [
    "# Your code for practice"
   ]
  },
  {
   "cell_type": "code",
   "execution_count": 3,
   "id": "d4a55088",
   "metadata": {},
   "outputs": [],
   "source": [
    "class Tree():\n",
    "    def __init__(self, root: TreeNode) -> None:\n",
    "        self.root = root\n",
    "    \n",
    "    def visit(self, node:TreeNode, depth:int) -> None:\n",
    "        print('--' * depth, node.name)\n",
    "        \n",
    "    def __DFT_preorderHelp(self, curNode, depth:int) -> None:\n",
    "        if curNode == None:\n",
    "            return\n",
    "        self.visit(curNode, level)\n",
    "        for childNode in curNode.child:\n",
    "            self.__DFT_preorderHelp(childNode,depth + 1)\n",
    "        # Your Code\n",
    "        \n",
    "    def DFT_preorder(self) -> None:\n",
    "        self.__DFT_preorderHelp(self.root, 1)\n",
    "        # Your Code"
   ]
  },
  {
   "cell_type": "markdown",
   "id": "9f8a4b8b",
   "metadata": {},
   "source": [
    "# Output"
   ]
  },
  {
   "cell_type": "code",
   "execution_count": 4,
   "id": "eb4da481",
   "metadata": {},
   "outputs": [
    {
     "ename": "NameError",
     "evalue": "name 'self' is not defined",
     "output_type": "error",
     "traceback": [
      "\u001b[1;31m---------------------------------------------------------------------------\u001b[0m",
      "\u001b[1;31mNameError\u001b[0m                                 Traceback (most recent call last)",
      "Cell \u001b[1;32mIn[4], line 5\u001b[0m\n\u001b[0;32m      2\u001b[0m myTree \u001b[38;5;241m=\u001b[39m Tree(t_root)\n\u001b[0;32m      4\u001b[0m \u001b[38;5;66;03m# Execute preorder DFT\u001b[39;00m\n\u001b[1;32m----> 5\u001b[0m myTree\u001b[38;5;241m.\u001b[39mDFT_preorder(\u001b[38;5;28mself\u001b[39m)\n",
      "\u001b[1;31mNameError\u001b[0m: name 'self' is not defined"
     ]
    }
   ],
   "source": [
    "# Create a tree\n",
    "myTree = Tree(t_root)\n",
    "\n",
    "# Execute preorder DFT\n",
    "myTree.DFT_preorder(self)"
   ]
  },
  {
   "cell_type": "code",
   "execution_count": null,
   "id": "25dc2398",
   "metadata": {},
   "outputs": [],
   "source": []
  }
 ],
 "metadata": {
  "kernelspec": {
   "display_name": "Python 3 (ipykernel)",
   "language": "python",
   "name": "python3"
  },
  "language_info": {
   "codemirror_mode": {
    "name": "ipython",
    "version": 3
   },
   "file_extension": ".py",
   "mimetype": "text/x-python",
   "name": "python",
   "nbconvert_exporter": "python",
   "pygments_lexer": "ipython3",
   "version": "3.11.5"
  }
 },
 "nbformat": 4,
 "nbformat_minor": 5
}

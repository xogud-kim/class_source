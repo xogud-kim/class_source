{
 "cells": [
  {
   "cell_type": "markdown",
   "metadata": {},
   "source": [
    "# Linear Regression Exercise\n",
    "\n",
    "Learn to generate synthetic data and fit a linear regression model.\n",
    "\n",
    "If you have enough time,\n",
    "- find a data set suitable for regression\n",
    "- fit and draw a residuals vs fits plot\n",
    "- visually examine linearity and homoscedasticity"
   ]
  },
  {
   "cell_type": "code",
   "execution_count": 6,
   "metadata": {
    "collapsed": true
   },
   "outputs": [],
   "source": [
    "# matplotlib is a visualization library\n",
    "import matplotlib.pyplot as plt\n",
    "# numpy is often shortened as `np`\n",
    "import numpy as np\n",
    "\n",
    "np.set_printoptions(precision=4)"
   ]
  },
  {
   "cell_type": "code",
   "execution_count": 11,
   "metadata": {
    "pycharm": {
     "name": "#%%\n"
    }
   },
   "outputs": [
    {
     "data": {
      "image/png": "[encoded data removed]",
      "text/plain": [
       "<Figure size 432x288 with 1 Axes>"
      ]
     },
     "metadata": {
      "needs_background": "light"
     },
     "output_type": "display_data"
    }
   ],
   "source": [
    "n = 100\n",
    "# create a random array with 100 elements using `np.random.rand`\n",
    "X = np.random.rand(n)\n",
    "# create a response Y using X with arbitrary parameters (slope and intercept)\n",
    "# together with a randomly generated epsilon following a Gaussian distribution (use `np.random.randn`) with its standard deviation 0.1\n",
    "intercept = 0.7\n",
    "slope = 1.3\n",
    "epsilon = 0.1 * np.random.randn(n)\n",
    "Y = slope * X + intercept + epsilon\n",
    "\n",
    "# create a figure\n",
    "fig = plt.figure()\n",
    "# draw a scatter plot\n",
    "plt.scatter(X, Y, alpha=0.5)\n",
    "# in the current figure, add a slope line\n",
    "fig.gca().axline((0, intercept), slope=slope, color='red', alpha=0.2);"
   ]
  },
  {
   "cell_type": "code",
   "execution_count": 12,
   "metadata": {
    "pycharm": {
     "name": "#%%\n"
    }
   },
   "outputs": [
    {
     "name": "stdout",
     "output_type": "stream",
     "text": [
      "X.shape=(5000, 3), epsilon.shape=(5000,), Y.shape=(5000,)\n"
     ]
    }
   ],
   "source": [
    "n = 5000\n",
    "# generate a random matrix n by 3\n",
    "X = np.random.rand(n, 3)\n",
    "# generate a normally distributed array of size n. (with its standard deviaion of 0.1)\n",
    "epsilon = 0.1 * np.random.randn(n)\n",
    "# create reponses with beta_1, beta_2, beta_3 = 0.5, 0.3, 0.7, and intercept of 1.0\n",
    "Y = 0.5 * X[:, 0] + 0.3 * X[:, 1] + 0.7 * X[:, 2] + 1.0 + epsilon\n",
    "print(f'{X.shape=}, {epsilon.shape=}, {Y.shape=}')"
   ]
  },
  {
   "cell_type": "code",
   "execution_count": 13,
   "metadata": {
    "pycharm": {
     "name": "#%%\n"
    }
   },
   "outputs": [
    {
     "name": "stdout",
     "output_type": "stream",
     "text": [
      "reg.coef_=array([0.5   , 0.2923, 0.7029]), reg.intercept_=1.0059\n"
     ]
    }
   ],
   "source": [
    "# Check how an existing ML library works.\n",
    "# sklearn is scikit-learn library\n",
    "from sklearn import linear_model\n",
    "\n",
    "reg = linear_model.LinearRegression()\n",
    "reg.fit(X, Y);\n",
    "print(f'{reg.coef_=}, {reg.intercept_=:.4f}')"
   ]
  },
  {
   "cell_type": "code",
   "execution_count": 14,
   "metadata": {
    "pycharm": {
     "name": "#%%\n"
    }
   },
   "outputs": [
    {
     "name": "stdout",
     "output_type": "stream",
     "text": [
      "[1.0059 0.5    0.2923 0.7029]\n"
     ]
    }
   ],
   "source": [
    "# implement linear regression with Matrix Computation\n",
    "# prepare a design matrix (use np.c_ to concatenate ones and X)\n",
    "A = np.c_[np.ones(n), X]\n",
    "# compute optimal beta (use matrix equation using @ and inverse provided by numpy)\n",
    "betas_hat = (np.linalg.inv(A.T @ A)) @ A.T @ Y\n",
    "print(betas_hat)\n"
   ]
  }
 ],
 "metadata": {
  "kernelspec": {
   "display_name": "Python 3 (ipykernel)",
   "language": "python",
   "name": "python3"
  },
  "language_info": {
   "codemirror_mode": {
    "name": "ipython",
    "version": 3
   },
   "file_extension": ".py",
   "mimetype": "text/x-python",
   "name": "python",
   "nbconvert_exporter": "python",
   "pygments_lexer": "ipython3",
   "version": "3.11.5"
  }
 },
 "nbformat": 4,
 "nbformat_minor": 1
}
